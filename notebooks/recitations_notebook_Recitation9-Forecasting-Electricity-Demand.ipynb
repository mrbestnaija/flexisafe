{
 "cells": [
  {
   "cell_type": "code",
   "execution_count": 1,
   "metadata": {
    "id": "zv8MnbfI-fTu"
   },
   "outputs": [],
   "source": [
    "import pandas as pd\n",
    "import numpy as np\n",
    "import matplotlib.pyplot as plt"
   ]
  },
  {
   "cell_type": "markdown",
   "metadata": {
    "id": "yd7dPzf6Dy7R"
   },
   "source": [
    "## Clean Raw Data"
   ]
  },
  {
   "cell_type": "code",
   "execution_count": 3,
   "metadata": {
    "id": "iZMCrHDn-p8p"
   },
   "outputs": [],
   "source": [
    "# full_df = pd.read_csv(\"LD2011_2014.txt\", sep=\";\", index_col=0, parse_dates=True, decimal=\",\")"
   ]
  },
  {
   "cell_type": "code",
   "execution_count": 4,
   "metadata": {
    "id": "128fcniz_FY3"
   },
   "outputs": [],
   "source": [
    "# full_df = full_df[full_df['MT_370'] > 0].copy()\n",
    "# full_df = full_df.resample('h').mean() / 4"
   ]
  },
  {
   "cell_type": "code",
   "execution_count": 5,
   "metadata": {
    "id": "iInXSPIm_Kcm"
   },
   "outputs": [],
   "source": [
    "# full_df.to_csv('electricity_demand_timeseries.csv')"
   ]
  },
  {
   "cell_type": "code",
   "execution_count": 6,
   "metadata": {
    "id": "jlr-jD5yF_IT"
   },
   "outputs": [],
   "source": [
    "full_df = pd.read_csv('recitations_data_electricity_demand_timeseries.csv', index_col=0, parse_dates=True)\n",
    "T = 132**2\n",
    "train_data = full_df.iloc[:T, :]\n",
    "test_data = full_df.iloc[T:T+24, :]"
   ]
  },
  {
   "cell_type": "code",
   "execution_count": 7,
   "metadata": {},
   "outputs": [
    {
     "name": "stdout",
     "output_type": "stream",
     "text": [
      "shape of data (17521, 370)\n",
      "Time series use Trai points:(17424, 370)\n",
      "Test data points:(24, 370)\n",
      "shape of data count    17491.000000\n",
      "mean      4372.355281\n",
      "std        984.730292\n",
      "min         94.594595\n",
      "25%       3820.608108\n",
      "50%       4459.459459\n",
      "75%       5054.054054\n",
      "max       7114.864865\n",
      "Name: MT_370, dtype: float64\n",
      "<class 'pandas.core.series.Series'>\n",
      "DatetimeIndex: 17521 entries, 2013-01-01 00:00:00 to 2015-01-01 00:00:00\n",
      "Series name: MT_370\n",
      "Non-Null Count  Dtype  \n",
      "--------------  -----  \n",
      "17491 non-null  float64\n",
      "dtypes: float64(1)\n",
      "memory usage: 273.8 KB\n",
      "shape of data None\n"
     ]
    }
   ],
   "source": [
    "print(f\"shape of data {full_df.shape}\")\n",
    "print(f\"Time series use Trai points:{train_data.shape}\\nTest data points:{test_data.shape}\")\n",
    "print(f\"shape of data {full_df['MT_370'].describe()}\")\n",
    "print(f\"shape of data {full_df['MT_370'].info()}\")"
   ]
  },
  {
   "cell_type": "markdown",
   "metadata": {
    "id": "G6P4VWfpD1Sy"
   },
   "source": [
    "## SSA"
   ]
  },
  {
   "cell_type": "markdown",
   "metadata": {
    "id": "9uVdWpXbJgwl"
   },
   "source": [
    "Goal: Generate forecasts for `MT_370` using data from its own time series\n",
    "\n",
    "### Step 1: Generate the Page Matrix\n",
    "\n",
    "Be sure to fill any missing values with 0, and keep track of missing data"
   ]
  },
  {
   "cell_type": "code",
   "execution_count": 10,
   "metadata": {
    "id": "6zv7RhU8E70n"
   },
   "outputs": [],
   "source": [
    "def page_matrix(ts, L):\n",
    "  T = len(ts)\n",
    "  page_matrix = np.zeros((L, int(T/L)))\n",
    "  for t in range(T):\n",
    "    i = t % L\n",
    "    j = int(t/L)\n",
    "    page_matrix[i, j] = ts[t]\n",
    "  return page_matrix"
   ]
  },
  {
   "cell_type": "code",
   "execution_count": 11,
   "metadata": {},
   "outputs": [],
   "source": [
    "# j = int(1/17424)\n",
    "# print(j)\n",
    "\n",
    "# j = (1%17424)\n",
    "# print(j)\n",
    "\n",
    "# j = (1//17424)\n",
    "# print(j)"
   ]
  },
  {
   "cell_type": "code",
   "execution_count": 12,
   "metadata": {
    "id": "XEsDDJsQBuIx"
   },
   "outputs": [],
   "source": [
    "L = 132\n",
    "null_idx = train_data['MT_370'].isna()\n",
    "rho_hat = 1 - (sum(null_idx) / len(train_data))\n",
    "ts = train_data['MT_370'].fillna(0).to_numpy()\n",
    "\n",
    "SSA_P = page_matrix(ts, L)"
   ]
  },
  {
   "cell_type": "code",
   "execution_count": 13,
   "metadata": {
    "colab": {
     "base_uri": "https://localhost:8080/"
    },
    "id": "gcvKWM9JmPM9",
    "outputId": "48259337-452e-455f-8c1d-e03f5ad90824"
   },
   "outputs": [
    {
     "data": {
      "text/plain": [
       "0.9982782369146006"
      ]
     },
     "execution_count": 13,
     "metadata": {},
     "output_type": "execute_result"
    }
   ],
   "source": [
    "rho_hat"
   ]
  },
  {
   "cell_type": "markdown",
   "metadata": {
    "id": "rGbxmOodGqdt"
   },
   "source": [
    "### Step 2: Perform Singular Value Thresholding\n",
    "\n",
    "Select $r$ which captures 99% of energy"
   ]
  },
  {
   "cell_type": "code",
   "execution_count": 15,
   "metadata": {
    "id": "WkECOv1eGp-E"
   },
   "outputs": [],
   "source": [
    "## SVD\n",
    "u, s, vh = np.linalg.svd(SSA_P)"
   ]
  },
  {
   "cell_type": "code",
   "execution_count": 16,
   "metadata": {
    "colab": {
     "base_uri": "https://localhost:8080/"
    },
    "id": "8oFq8zv8ECHx",
    "outputId": "47d39c4c-3213-4ea8-f62a-e5ef8f7ada7b"
   },
   "outputs": [
    {
     "data": {
      "text/plain": [
       "4"
      ]
     },
     "execution_count": 16,
     "metadata": {},
     "output_type": "execute_result"
    }
   ],
   "source": [
    "# Select r\n",
    "for r in range(len(s)):\n",
    "  if np.sum(np.square(s[:r])) / np.sum(np.square(s)) > 0.99:\n",
    "    break\n",
    "r"
   ]
  },
  {
   "cell_type": "code",
   "execution_count": 17,
   "metadata": {
    "id": "dCC1s-cqFHE9"
   },
   "outputs": [],
   "source": [
    "s_truncated = np.zeros((u.shape[0], vh.shape[0]))\n",
    "s_truncated[:r, :r] = np.diag(s[:r])\n",
    "\n",
    "SSA_P_hat = (u @ s_truncated @ vh) / rho_hat"
   ]
  },
  {
   "cell_type": "markdown",
   "metadata": {
    "id": "HVP4m3_ZIOIa"
   },
   "source": [
    "### Step 3: Learn betas for prediction:\n",
    "\n",
    "Use the first $L-1$ rows of the denoised matrix to predict the last row of the original matrix"
   ]
  },
  {
   "cell_type": "code",
   "execution_count": 19,
   "metadata": {
    "id": "n4JsTmsPGnhI"
   },
   "outputs": [],
   "source": [
    "Phi = SSA_P_hat[:-1, :].T\n",
    "Y = SSA_P[-1, :]\n",
    "\n",
    "betas_SSA = np.linalg.pinv(Phi) @ Y"
   ]
  },
  {
   "cell_type": "markdown",
   "metadata": {
    "id": "j6prnTCTIjs-"
   },
   "source": [
    "### Step 4: Apply betas to do short-term forecasting\n",
    "\n",
    "No need to update the model with each iteration"
   ]
  },
  {
   "cell_type": "code",
   "execution_count": 21,
   "metadata": {
    "id": "6Ii0HA6nIc7t"
   },
   "outputs": [],
   "source": [
    "test_estimates_SSA = []\n",
    "\n",
    "full_ts = full_df['MT_370'].fillna(0).to_numpy()\n",
    "for t in range(len(train_data), len(train_data) + len(test_data)):\n",
    "  test_estimate = np.dot(betas_SSA, full_ts[t-L + 1:t])\n",
    "  test_estimates_SSA.append(test_estimate)\n",
    "\n",
    "test_estimates_SSA = pd.Series(test_estimates_SSA, index=test_data.index)"
   ]
  },
  {
   "cell_type": "code",
   "execution_count": 22,
   "metadata": {
    "colab": {
     "base_uri": "https://localhost:8080/",
     "height": 448
    },
    "id": "9TiE5vUmIiy9",
    "outputId": "35e1bd3d-934c-4971-d476-d32c50abf82f"
   },
   "outputs": [
    {
     "data": {
      "image/png": "[encoded data removed]",
      "text/plain": [
       "<Figure size 640x480 with 1 Axes>"
      ]
     },
     "metadata": {},
     "output_type": "display_data"
    }
   ],
   "source": [
    "# plt.plot(train_data['MT_370'][-30:-1], label='train')\n",
    "plt.plot(test_data['MT_370'], label='test')\n",
    "plt.plot(test_estimates_SSA, label='forecast')\n",
    "plt.legend()\n",
    "plt.show()"
   ]
  },
  {
   "cell_type": "code",
   "execution_count": 23,
   "metadata": {
    "colab": {
     "base_uri": "https://localhost:8080/"
    },
    "id": "vg6smjlwJKV3",
    "outputId": "3a10e70f-2167-4a6c-feb3-db8721c305a3"
   },
   "outputs": [
    {
     "name": "stdout",
     "output_type": "stream",
     "text": [
      "SSA ERROR :263691.59772114287\n"
     ]
    }
   ],
   "source": [
    "## Compute MSE\n",
    "ssa_error = np.mean(np.square(test_data['MT_370'] - test_estimates_SSA))\n",
    "print(f\"SSA ERROR :{ssa_error}\")"
   ]
  },
  {
   "cell_type": "markdown",
   "metadata": {
    "id": "-2ZHIXbaJjTZ"
   },
   "source": [
    "## mSSA"
   ]
  },
  {
   "cell_type": "markdown",
   "metadata": {
    "id": "X3mFqXHvJl0x"
   },
   "source": [
    "Goal: Generate forecasts for `MT_370`, using training data from itself and other time series.\n",
    "\n",
    "### Step 1: Generate the Page Matrix\n",
    "\n",
    "Be sure to fill any missing values with 0, and keep track of missing data\n",
    "\n",
    "Before, we used L = 132. To keep the Page Matrix nicely shaped and still using all of the data, we'll use a new L = 132 * 12 = 1584. This will ensure that our Page Matrix is close enough to being square"
   ]
  },
  {
   "cell_type": "code",
   "execution_count": 26,
   "metadata": {
    "id": "sy-ziOM4JbTx"
   },
   "outputs": [],
   "source": [
    "def stacked_page_matrix(ts_list, L):\n",
    "  T = len(ts_list[0])\n",
    "  num_ts = len(ts_list)\n",
    "  stacked_page_matrix = np.zeros((L, int(T * num_ts/L)))\n",
    "  for i, ts in enumerate(ts_list):\n",
    "    stacked_page_matrix[:, i*int(T / L):(i+1)*int(T / L)] = page_matrix(ts, L)\n",
    "  return stacked_page_matrix"
   ]
  },
  {
   "cell_type": "code",
   "execution_count": 27,
   "metadata": {
    "id": "3eedRiu2KDF2"
   },
   "outputs": [],
   "source": [
    "null_idxs = [ train_data[i].isna() for i in train_data.columns]\n",
    "total_obs = sum([sum(~null_idx) for null_idx in null_idxs])\n",
    "rho_hat = total_obs / (train_data.size)\n"
   ]
  },
  {
   "cell_type": "code",
   "execution_count": 28,
   "metadata": {
    "id": "gUjleEyHL2X4"
   },
   "outputs": [],
   "source": [
    "L = 132*12\n",
    "ts_list = [train_data[i].fillna(0).to_numpy() for i in train_data.columns]\n",
    "mSSA_P = stacked_page_matrix(ts_list, L)"
   ]
  },
  {
   "cell_type": "code",
   "execution_count": 29,
   "metadata": {},
   "outputs": [
    {
     "name": "stdout",
     "output_type": "stream",
     "text": [
      "Original Data Shape:\n",
      "shape of data (17521, 370)\n",
      "Time series use Train points:(17424, 370)\n",
      "Test data points:(24, 370)\n",
      "shape of data count    17491.000000\n",
      "mean      4372.355281\n",
      "std        984.730292\n",
      "min         94.594595\n",
      "25%       3820.608108\n",
      "50%       4459.459459\n",
      "75%       5054.054054\n",
      "max       7114.864865\n",
      "Name: MT_370, dtype: float64\n",
      "<class 'pandas.core.series.Series'>\n",
      "DatetimeIndex: 17521 entries, 2013-01-01 00:00:00 to 2015-01-01 00:00:00\n",
      "Series name: MT_370\n",
      "Non-Null Count  Dtype  \n",
      "--------------  -----  \n",
      "17491 non-null  float64\n",
      "dtypes: float64(1)\n",
      "memory usage: 273.8 KB\n",
      "shape of data None\n",
      "Row:L=1584; row T/L=4070.0\n"
     ]
    }
   ],
   "source": [
    "# Original data shape\n",
    "print('Original Data Shape:')\n",
    "print(f\"shape of data {full_df.shape}\")\n",
    "print(f\"Time series use Train points:{train_data.shape}\\nTest data points:{test_data.shape}\")\n",
    "print(f\"shape of data {full_df['MT_370'].describe()}\")\n",
    "print(f\"shape of data {full_df['MT_370'].info()}\")\n",
    "\n",
    "print(f\"Row:L={int(train_data.shape[0]/132 * 12)}; row T/L={int(train_data.shape[0])/1584*370}\")"
   ]
  },
  {
   "cell_type": "code",
   "execution_count": 30,
   "metadata": {
    "colab": {
     "base_uri": "https://localhost:8080/",
     "height": 443
    },
    "id": "cUI4uUOxnej-",
    "outputId": "175b716e-a5e0-4c48-a72a-b7d95804eb97"
   },
   "outputs": [
    {
     "data": {
      "text/html": [
       "<div>\n",
       "<style scoped>\n",
       "    .dataframe tbody tr th:only-of-type {\n",
       "        vertical-align: middle;\n",
       "    }\n",
       "\n",
       "    .dataframe tbody tr th {\n",
       "        vertical-align: top;\n",
       "    }\n",
       "\n",
       "    .dataframe thead th {\n",
       "        text-align: right;\n",
       "    }\n",
       "</style>\n",
       "<table border=\"1\" class=\"dataframe\">\n",
       "  <thead>\n",
       "    <tr style=\"text-align: right;\">\n",
       "      <th></th>\n",
       "      <th>0</th>\n",
       "      <th>1</th>\n",
       "      <th>2</th>\n",
       "      <th>3</th>\n",
       "      <th>4</th>\n",
       "      <th>5</th>\n",
       "      <th>6</th>\n",
       "      <th>7</th>\n",
       "      <th>8</th>\n",
       "      <th>9</th>\n",
       "      <th>...</th>\n",
       "      <th>4060</th>\n",
       "      <th>4061</th>\n",
       "      <th>4062</th>\n",
       "      <th>4063</th>\n",
       "      <th>4064</th>\n",
       "      <th>4065</th>\n",
       "      <th>4066</th>\n",
       "      <th>4067</th>\n",
       "      <th>4068</th>\n",
       "      <th>4069</th>\n",
       "    </tr>\n",
       "  </thead>\n",
       "  <tbody>\n",
       "    <tr>\n",
       "      <th>0</th>\n",
       "      <td>0.528765</td>\n",
       "      <td>0.475888</td>\n",
       "      <td>0.634518</td>\n",
       "      <td>0.713832</td>\n",
       "      <td>3.727792</td>\n",
       "      <td>4.203680</td>\n",
       "      <td>0.634518</td>\n",
       "      <td>0.475888</td>\n",
       "      <td>0.396574</td>\n",
       "      <td>3.807107</td>\n",
       "      <td>...</td>\n",
       "      <td>4310.810811</td>\n",
       "      <td>4682.432432</td>\n",
       "      <td>4429.729730</td>\n",
       "      <td>4890.540541</td>\n",
       "      <td>4212.837838</td>\n",
       "      <td>4148.648649</td>\n",
       "      <td>3699.324324</td>\n",
       "      <td>5472.972973</td>\n",
       "      <td>3969.594595</td>\n",
       "      <td>4652.027027</td>\n",
       "    </tr>\n",
       "    <tr>\n",
       "      <th>1</th>\n",
       "      <td>0.555203</td>\n",
       "      <td>0.396574</td>\n",
       "      <td>0.634518</td>\n",
       "      <td>0.793147</td>\n",
       "      <td>3.727792</td>\n",
       "      <td>4.045051</td>\n",
       "      <td>0.555203</td>\n",
       "      <td>0.555203</td>\n",
       "      <td>0.475888</td>\n",
       "      <td>3.886421</td>\n",
       "      <td>...</td>\n",
       "      <td>4355.405405</td>\n",
       "      <td>4548.648649</td>\n",
       "      <td>5009.459459</td>\n",
       "      <td>4385.135135</td>\n",
       "      <td>4074.324324</td>\n",
       "      <td>3986.486486</td>\n",
       "      <td>3888.513514</td>\n",
       "      <td>5243.243243</td>\n",
       "      <td>3935.810811</td>\n",
       "      <td>4331.081081</td>\n",
       "    </tr>\n",
       "    <tr>\n",
       "      <th>2</th>\n",
       "      <td>0.475888</td>\n",
       "      <td>0.396574</td>\n",
       "      <td>0.634518</td>\n",
       "      <td>0.713832</td>\n",
       "      <td>3.807107</td>\n",
       "      <td>3.886421</td>\n",
       "      <td>0.555203</td>\n",
       "      <td>0.396574</td>\n",
       "      <td>0.475888</td>\n",
       "      <td>3.965736</td>\n",
       "      <td>...</td>\n",
       "      <td>4102.702703</td>\n",
       "      <td>4860.810811</td>\n",
       "      <td>5143.243243</td>\n",
       "      <td>4191.891892</td>\n",
       "      <td>4125.000000</td>\n",
       "      <td>3925.675676</td>\n",
       "      <td>3932.432432</td>\n",
       "      <td>5858.108108</td>\n",
       "      <td>3787.162162</td>\n",
       "      <td>4837.837838</td>\n",
       "    </tr>\n",
       "    <tr>\n",
       "      <th>3</th>\n",
       "      <td>0.555203</td>\n",
       "      <td>0.396574</td>\n",
       "      <td>0.555203</td>\n",
       "      <td>0.793147</td>\n",
       "      <td>3.727792</td>\n",
       "      <td>3.965736</td>\n",
       "      <td>0.634518</td>\n",
       "      <td>0.475888</td>\n",
       "      <td>0.475888</td>\n",
       "      <td>3.965736</td>\n",
       "      <td>...</td>\n",
       "      <td>4191.891892</td>\n",
       "      <td>4578.378378</td>\n",
       "      <td>4786.486486</td>\n",
       "      <td>3939.189189</td>\n",
       "      <td>4388.513514</td>\n",
       "      <td>4135.135135</td>\n",
       "      <td>3611.486486</td>\n",
       "      <td>5341.216216</td>\n",
       "      <td>3871.621622</td>\n",
       "      <td>4290.540541</td>\n",
       "    </tr>\n",
       "    <tr>\n",
       "      <th>4</th>\n",
       "      <td>0.555203</td>\n",
       "      <td>0.475888</td>\n",
       "      <td>0.713832</td>\n",
       "      <td>0.713832</td>\n",
       "      <td>3.807107</td>\n",
       "      <td>3.886421</td>\n",
       "      <td>0.555203</td>\n",
       "      <td>0.475888</td>\n",
       "      <td>0.475888</td>\n",
       "      <td>3.886421</td>\n",
       "      <td>...</td>\n",
       "      <td>4132.432432</td>\n",
       "      <td>4608.108108</td>\n",
       "      <td>3968.918919</td>\n",
       "      <td>3894.594595</td>\n",
       "      <td>4496.621622</td>\n",
       "      <td>4601.351351</td>\n",
       "      <td>4158.783784</td>\n",
       "      <td>5770.270270</td>\n",
       "      <td>4233.108108</td>\n",
       "      <td>5155.405405</td>\n",
       "    </tr>\n",
       "    <tr>\n",
       "      <th>...</th>\n",
       "      <td>...</td>\n",
       "      <td>...</td>\n",
       "      <td>...</td>\n",
       "      <td>...</td>\n",
       "      <td>...</td>\n",
       "      <td>...</td>\n",
       "      <td>...</td>\n",
       "      <td>...</td>\n",
       "      <td>...</td>\n",
       "      <td>...</td>\n",
       "      <td>...</td>\n",
       "      <td>...</td>\n",
       "      <td>...</td>\n",
       "      <td>...</td>\n",
       "      <td>...</td>\n",
       "      <td>...</td>\n",
       "      <td>...</td>\n",
       "      <td>...</td>\n",
       "      <td>...</td>\n",
       "      <td>...</td>\n",
       "      <td>...</td>\n",
       "    </tr>\n",
       "    <tr>\n",
       "      <th>1579</th>\n",
       "      <td>0.396574</td>\n",
       "      <td>0.555203</td>\n",
       "      <td>0.158629</td>\n",
       "      <td>3.569162</td>\n",
       "      <td>3.886421</td>\n",
       "      <td>0.555203</td>\n",
       "      <td>0.237944</td>\n",
       "      <td>0.317259</td>\n",
       "      <td>3.569162</td>\n",
       "      <td>0.396574</td>\n",
       "      <td>...</td>\n",
       "      <td>3017.567568</td>\n",
       "      <td>4474.324324</td>\n",
       "      <td>4697.297297</td>\n",
       "      <td>5043.918919</td>\n",
       "      <td>4398.648649</td>\n",
       "      <td>3760.135135</td>\n",
       "      <td>5631.756757</td>\n",
       "      <td>3608.108108</td>\n",
       "      <td>5263.513514</td>\n",
       "      <td>3989.864865</td>\n",
       "    </tr>\n",
       "    <tr>\n",
       "      <th>1580</th>\n",
       "      <td>0.475888</td>\n",
       "      <td>0.555203</td>\n",
       "      <td>0.237944</td>\n",
       "      <td>3.648477</td>\n",
       "      <td>3.886421</td>\n",
       "      <td>0.555203</td>\n",
       "      <td>0.396574</td>\n",
       "      <td>0.237944</td>\n",
       "      <td>3.569162</td>\n",
       "      <td>0.475888</td>\n",
       "      <td>...</td>\n",
       "      <td>3047.297297</td>\n",
       "      <td>4221.621622</td>\n",
       "      <td>4637.837838</td>\n",
       "      <td>4469.594595</td>\n",
       "      <td>4371.621622</td>\n",
       "      <td>3925.675676</td>\n",
       "      <td>5168.918919</td>\n",
       "      <td>3648.648649</td>\n",
       "      <td>5445.945946</td>\n",
       "      <td>3871.621622</td>\n",
       "    </tr>\n",
       "    <tr>\n",
       "      <th>1581</th>\n",
       "      <td>0.396574</td>\n",
       "      <td>0.555203</td>\n",
       "      <td>0.634518</td>\n",
       "      <td>3.727792</td>\n",
       "      <td>3.807107</td>\n",
       "      <td>0.713832</td>\n",
       "      <td>0.475888</td>\n",
       "      <td>0.396574</td>\n",
       "      <td>3.886421</td>\n",
       "      <td>0.555203</td>\n",
       "      <td>...</td>\n",
       "      <td>3374.324324</td>\n",
       "      <td>4191.891892</td>\n",
       "      <td>5054.054054</td>\n",
       "      <td>4425.675676</td>\n",
       "      <td>4614.864865</td>\n",
       "      <td>4202.702703</td>\n",
       "      <td>4952.702703</td>\n",
       "      <td>4094.594595</td>\n",
       "      <td>4219.594595</td>\n",
       "      <td>3942.567568</td>\n",
       "    </tr>\n",
       "    <tr>\n",
       "      <th>1582</th>\n",
       "      <td>0.396574</td>\n",
       "      <td>0.634518</td>\n",
       "      <td>0.713832</td>\n",
       "      <td>3.727792</td>\n",
       "      <td>4.996827</td>\n",
       "      <td>0.475888</td>\n",
       "      <td>0.475888</td>\n",
       "      <td>0.475888</td>\n",
       "      <td>3.965736</td>\n",
       "      <td>0.555203</td>\n",
       "      <td>...</td>\n",
       "      <td>3864.864865</td>\n",
       "      <td>3983.783784</td>\n",
       "      <td>5054.054054</td>\n",
       "      <td>4074.324324</td>\n",
       "      <td>4560.810811</td>\n",
       "      <td>3760.135135</td>\n",
       "      <td>4496.621622</td>\n",
       "      <td>3753.378378</td>\n",
       "      <td>4905.405405</td>\n",
       "      <td>3570.945946</td>\n",
       "    </tr>\n",
       "    <tr>\n",
       "      <th>1583</th>\n",
       "      <td>0.396574</td>\n",
       "      <td>0.634518</td>\n",
       "      <td>0.793147</td>\n",
       "      <td>3.727792</td>\n",
       "      <td>4.124365</td>\n",
       "      <td>0.555203</td>\n",
       "      <td>0.396574</td>\n",
       "      <td>0.475888</td>\n",
       "      <td>3.886421</td>\n",
       "      <td>0.475888</td>\n",
       "      <td>...</td>\n",
       "      <td>3612.162162</td>\n",
       "      <td>3939.189189</td>\n",
       "      <td>4652.702703</td>\n",
       "      <td>3743.243243</td>\n",
       "      <td>4459.459459</td>\n",
       "      <td>4125.000000</td>\n",
       "      <td>4385.135135</td>\n",
       "      <td>3554.054054</td>\n",
       "      <td>4145.270270</td>\n",
       "      <td>3290.540541</td>\n",
       "    </tr>\n",
       "  </tbody>\n",
       "</table>\n",
       "<p>1584 rows × 4070 columns</p>\n",
       "</div>"
      ],
      "text/plain": [
       "          0         1         2         3         4         5         6     \\\n",
       "0     0.528765  0.475888  0.634518  0.713832  3.727792  4.203680  0.634518   \n",
       "1     0.555203  0.396574  0.634518  0.793147  3.727792  4.045051  0.555203   \n",
       "2     0.475888  0.396574  0.634518  0.713832  3.807107  3.886421  0.555203   \n",
       "3     0.555203  0.396574  0.555203  0.793147  3.727792  3.965736  0.634518   \n",
       "4     0.555203  0.475888  0.713832  0.713832  3.807107  3.886421  0.555203   \n",
       "...        ...       ...       ...       ...       ...       ...       ...   \n",
       "1579  0.396574  0.555203  0.158629  3.569162  3.886421  0.555203  0.237944   \n",
       "1580  0.475888  0.555203  0.237944  3.648477  3.886421  0.555203  0.396574   \n",
       "1581  0.396574  0.555203  0.634518  3.727792  3.807107  0.713832  0.475888   \n",
       "1582  0.396574  0.634518  0.713832  3.727792  4.996827  0.475888  0.475888   \n",
       "1583  0.396574  0.634518  0.793147  3.727792  4.124365  0.555203  0.396574   \n",
       "\n",
       "          7         8         9     ...         4060         4061  \\\n",
       "0     0.475888  0.396574  3.807107  ...  4310.810811  4682.432432   \n",
       "1     0.555203  0.475888  3.886421  ...  4355.405405  4548.648649   \n",
       "2     0.396574  0.475888  3.965736  ...  4102.702703  4860.810811   \n",
       "3     0.475888  0.475888  3.965736  ...  4191.891892  4578.378378   \n",
       "4     0.475888  0.475888  3.886421  ...  4132.432432  4608.108108   \n",
       "...        ...       ...       ...  ...          ...          ...   \n",
       "1579  0.317259  3.569162  0.396574  ...  3017.567568  4474.324324   \n",
       "1580  0.237944  3.569162  0.475888  ...  3047.297297  4221.621622   \n",
       "1581  0.396574  3.886421  0.555203  ...  3374.324324  4191.891892   \n",
       "1582  0.475888  3.965736  0.555203  ...  3864.864865  3983.783784   \n",
       "1583  0.475888  3.886421  0.475888  ...  3612.162162  3939.189189   \n",
       "\n",
       "             4062         4063         4064         4065         4066  \\\n",
       "0     4429.729730  4890.540541  4212.837838  4148.648649  3699.324324   \n",
       "1     5009.459459  4385.135135  4074.324324  3986.486486  3888.513514   \n",
       "2     5143.243243  4191.891892  4125.000000  3925.675676  3932.432432   \n",
       "3     4786.486486  3939.189189  4388.513514  4135.135135  3611.486486   \n",
       "4     3968.918919  3894.594595  4496.621622  4601.351351  4158.783784   \n",
       "...           ...          ...          ...          ...          ...   \n",
       "1579  4697.297297  5043.918919  4398.648649  3760.135135  5631.756757   \n",
       "1580  4637.837838  4469.594595  4371.621622  3925.675676  5168.918919   \n",
       "1581  5054.054054  4425.675676  4614.864865  4202.702703  4952.702703   \n",
       "1582  5054.054054  4074.324324  4560.810811  3760.135135  4496.621622   \n",
       "1583  4652.702703  3743.243243  4459.459459  4125.000000  4385.135135   \n",
       "\n",
       "             4067         4068         4069  \n",
       "0     5472.972973  3969.594595  4652.027027  \n",
       "1     5243.243243  3935.810811  4331.081081  \n",
       "2     5858.108108  3787.162162  4837.837838  \n",
       "3     5341.216216  3871.621622  4290.540541  \n",
       "4     5770.270270  4233.108108  5155.405405  \n",
       "...           ...          ...          ...  \n",
       "1579  3608.108108  5263.513514  3989.864865  \n",
       "1580  3648.648649  5445.945946  3871.621622  \n",
       "1581  4094.594595  4219.594595  3942.567568  \n",
       "1582  3753.378378  4905.405405  3570.945946  \n",
       "1583  3554.054054  4145.270270  3290.540541  \n",
       "\n",
       "[1584 rows x 4070 columns]"
      ]
     },
     "execution_count": 30,
     "metadata": {},
     "output_type": "execute_result"
    }
   ],
   "source": [
    "pd.DataFrame(mSSA_P)"
   ]
  },
  {
   "cell_type": "markdown",
   "metadata": {
    "id": "ouvQTB5sMktk"
   },
   "source": [
    "### Step 2: Perform Singular Value Thresholding"
   ]
  },
  {
   "cell_type": "code",
   "execution_count": 32,
   "metadata": {
    "id": "GqEBH66zL56u"
   },
   "outputs": [],
   "source": [
    "## SVD\n",
    "u, s, vh = np.linalg.svd(mSSA_P)"
   ]
  },
  {
   "cell_type": "code",
   "execution_count": 33,
   "metadata": {
    "colab": {
     "base_uri": "https://localhost:8080/"
    },
    "id": "oRlZQoL8L_HM",
    "outputId": "69afc738-64cc-4990-ce8c-b0f13d3de857"
   },
   "outputs": [
    {
     "data": {
      "text/plain": [
       "6"
      ]
     },
     "execution_count": 33,
     "metadata": {},
     "output_type": "execute_result"
    }
   ],
   "source": [
    "# Select r\n",
    "for r in range(len(s)):\n",
    "  if np.sum(np.square(s[:r])) / np.sum(np.square(s)) > 0.99:\n",
    "    break\n",
    "r"
   ]
  },
  {
   "cell_type": "code",
   "execution_count": 34,
   "metadata": {
    "id": "mnhXYrkjMxa1"
   },
   "outputs": [],
   "source": [
    "s_truncated = np.zeros((u.shape[0], vh.shape[0]))\n",
    "s_truncated[:r, :r] = np.diag(s[:r])\n",
    "\n",
    "mSSA_P_hat = (u @ s_truncated @ vh) / rho_hat"
   ]
  },
  {
   "cell_type": "markdown",
   "metadata": {
    "id": "oNf0N44WNEvH"
   },
   "source": [
    "### Step 3: Learn betas for prediction:\n",
    "\n",
    "Use the first $L-1$ rows of the denoised matrix to predict the last row of the original matrix"
   ]
  },
  {
   "cell_type": "code",
   "execution_count": 36,
   "metadata": {
    "id": "ereO_SlRM0Kf"
   },
   "outputs": [],
   "source": [
    "Phi = mSSA_P_hat[:-1, :].T\n",
    "Y = mSSA_P[-1, :]\n",
    "\n",
    "betas_mSSA = np.linalg.pinv(Phi) @ Y"
   ]
  },
  {
   "cell_type": "markdown",
   "metadata": {
    "id": "WICLV47JNI5p"
   },
   "source": [
    "### Step 4: Apply betas to do short-term forecasting\n",
    "\n",
    "No need to update the model with each iteration"
   ]
  },
  {
   "cell_type": "code",
   "execution_count": 38,
   "metadata": {
    "id": "DpNijH7bNHiS"
   },
   "outputs": [],
   "source": [
    "test_estimates_mSSA = []\n",
    "\n",
    "full_ts = full_df['MT_370'].fillna(0).to_numpy()\n",
    "for t in range(len(train_data), len(train_data) + len(test_data)):\n",
    "  test_estimate = np.dot(betas_mSSA, full_ts[t-L + 1:t])\n",
    "  test_estimates_mSSA.append(test_estimate)\n",
    "\n",
    "test_estimates_mSSA = pd.Series(test_estimates_mSSA, index=test_data.index)"
   ]
  },
  {
   "cell_type": "code",
   "execution_count": 39,
   "metadata": {
    "colab": {
     "base_uri": "https://localhost:8080/",
     "height": 448
    },
    "id": "Oa3yf2s-Oaek",
    "outputId": "feb6a941-52fa-4af1-db16-b45e27d2f4a8"
   },
   "outputs": [
    {
     "data": {
      "text/plain": [
       "<matplotlib.legend.Legend at 0x1c8aea6caa0>"
      ]
     },
     "execution_count": 39,
     "metadata": {},
     "output_type": "execute_result"
    },
    {
     "data": {
      "image/png": "[encoded data removed]",
      "text/plain": [
       "<Figure size 640x480 with 1 Axes>"
      ]
     },
     "metadata": {},
     "output_type": "display_data"
    }
   ],
   "source": [
    "# plt.plot(train_data['MT_370'][-100:-1], label='train')\n",
    "plt.plot(test_data['MT_370'], label='test')\n",
    "plt.plot(test_estimates_mSSA, label='forecast')\n",
    "plt.legend()"
   ]
  },
  {
   "cell_type": "code",
   "execution_count": 40,
   "metadata": {
    "colab": {
     "base_uri": "https://localhost:8080/"
    },
    "id": "0R39P7_iOdbY",
    "outputId": "83350be4-23cb-4b35-e046-994632777f2d"
   },
   "outputs": [
    {
     "name": "stdout",
     "output_type": "stream",
     "text": [
      "MSSA ERROR: 110700.60380431607\n",
      "difference btwn MSSA and SSA mse: -152990.9939168268\n"
     ]
    }
   ],
   "source": [
    "mssa_error = np.mean(np.square(test_data['MT_370'] - test_estimates_mSSA))\n",
    "print(f\"MSSA ERROR: {mssa_error}\")\n",
    "diff_mssa = mssa_error - ssa_error\n",
    "print(f\"difference btwn MSSA and SSA mse: {diff_mssa}\")"
   ]
  },
  {
   "cell_type": "markdown",
   "metadata": {
    "id": "P7UWSmpVRILX"
   },
   "source": [
    "## tSSA (If time)\n",
    "\n",
    "Same set up as mSSA, but uses a tensor instead of a stacked matrix"
   ]
  },
  {
   "cell_type": "markdown",
   "metadata": {
    "id": "U0O61vVxROWR"
   },
   "source": [
    "## Step 1: Generate Tensor"
   ]
  },
  {
   "cell_type": "code",
   "execution_count": 43,
   "metadata": {
    "id": "uEDNXPn2Oikk"
   },
   "outputs": [],
   "source": [
    "def page_tensor(ts_list, L):\n",
    "  T = len(ts_list[0])\n",
    "  N = len(ts_list)\n",
    "  tensor = np.zeros((N, L, int(T/L)))\n",
    "  for i, ts in enumerate(ts_list):\n",
    "    tensor[i, :, :] = page_matrix(ts, L)\n",
    "  return tensor"
   ]
  },
  {
   "cell_type": "code",
   "execution_count": 44,
   "metadata": {
    "id": "s0Ghg78RSnRn"
   },
   "outputs": [],
   "source": [
    "null_idxs = [ train_data[i].isna() for i in train_data.columns]\n",
    "total_obs = sum([sum(~null_idx) for null_idx in null_idxs])\n",
    "rho_hat = total_obs / (train_data.size)"
   ]
  },
  {
   "cell_type": "code",
   "execution_count": 45,
   "metadata": {
    "id": "JTtTdJRjRatN"
   },
   "outputs": [],
   "source": [
    "L = 132\n",
    "ts_list = [train_data[i].fillna(0).to_numpy() for i in train_data.columns]\n",
    "tSSA_T = page_tensor(ts_list, L)"
   ]
  },
  {
   "cell_type": "markdown",
   "metadata": {
    "id": "mYtmuOosUqyQ"
   },
   "source": [
    "### Step 2: Tensor Decomposition\n",
    "\n",
    "Use $r = 20$ for low-rank structure, but feel free to play with this hyperparameter"
   ]
  },
  {
   "cell_type": "code",
   "execution_count": 47,
   "metadata": {
    "colab": {
     "base_uri": "https://localhost:8080/"
    },
    "id": "rQsRcAVmSv7c",
    "outputId": "e0227932-0725-42d8-c86b-c36eb85c69a4"
   },
   "outputs": [],
   "source": [
    "# !pip install tensorly\n",
    "from tensorly.decomposition import parafac"
   ]
  },
  {
   "cell_type": "code",
   "execution_count": 48,
   "metadata": {
    "id": "Uh21UY0tS28A"
   },
   "outputs": [],
   "source": [
    "r = 20\n",
    "tSSA_T_hat = parafac(tSSA_T, rank=r, normalize_factors=True)\n",
    "tSSA_T_hat = tSSA_T_hat.to_tensor() / rho_hat"
   ]
  },
  {
   "cell_type": "code",
   "execution_count": 49,
   "metadata": {},
   "outputs": [
    {
     "data": {
      "text/plain": [
       "(370, 132, 132)"
      ]
     },
     "execution_count": 49,
     "metadata": {},
     "output_type": "execute_result"
    }
   ],
   "source": [
    "tSSA_T.shape"
   ]
  },
  {
   "cell_type": "markdown",
   "metadata": {
    "id": "uzw2QYHgUyvg"
   },
   "source": [
    "### Step 3: Learn coefficients"
   ]
  },
  {
   "cell_type": "code",
   "execution_count": 51,
   "metadata": {
    "id": "TRcNpPeGTIqt"
   },
   "outputs": [],
   "source": [
    "Phi = np.hstack([tSSA_T_hat[i, :-1, :] for i in range(len(ts_list))]).T\n",
    "Y = np.hstack([tSSA_T[i, -1, :] for i in range(len(ts_list))])\n",
    "\n",
    "betas_tSSA = np.linalg.pinv(Phi) @ Y"
   ]
  },
  {
   "cell_type": "markdown",
   "metadata": {
    "id": "XwtSfpquU2p6"
   },
   "source": [
    "### Step 4: Compute Predictions"
   ]
  },
  {
   "cell_type": "code",
   "execution_count": 53,
   "metadata": {
    "id": "i9HxJFIhT8Ia"
   },
   "outputs": [],
   "source": [
    "test_estimates_tSSA = []\n",
    "\n",
    "full_ts = full_df['MT_370'].fillna(0).to_numpy()\n",
    "for t in range(len(train_data), len(train_data) + len(test_data)):\n",
    "  test_estimate = np.dot(betas_tSSA, full_ts[t-L + 1:t])\n",
    "  test_estimates_tSSA.append(test_estimate)\n",
    "\n",
    "test_estimates_tSSA = pd.Series(test_estimates_tSSA, index=test_data.index)"
   ]
  },
  {
   "cell_type": "code",
   "execution_count": 54,
   "metadata": {
    "colab": {
     "base_uri": "https://localhost:8080/",
     "height": 448
    },
    "id": "2KPLU0MBU-Lh",
    "outputId": "fa1c2238-dbb1-41be-8158-74b5d202ca8a"
   },
   "outputs": [
    {
     "data": {
      "text/plain": [
       "<matplotlib.legend.Legend at 0x1c8ade4b9b0>"
      ]
     },
     "execution_count": 54,
     "metadata": {},
     "output_type": "execute_result"
    },
    {
     "data": {
      "image/png": "[encoded data removed]",
      "text/plain": [
       "<Figure size 640x480 with 1 Axes>"
      ]
     },
     "metadata": {},
     "output_type": "display_data"
    }
   ],
   "source": [
    "# plt.plot(train_data['MT_370'], label='train')\n",
    "plt.plot(test_data['MT_370'], label='test')\n",
    "plt.plot(test_estimates_tSSA, label='forecast')\n",
    "plt.legend()"
   ]
  },
  {
   "cell_type": "code",
   "execution_count": 55,
   "metadata": {
    "colab": {
     "base_uri": "https://localhost:8080/"
    },
    "id": "6lMUZeSiVBKi",
    "outputId": "19117109-2519-4628-e50b-bfe99889ebd3"
   },
   "outputs": [
    {
     "name": "stdout",
     "output_type": "stream",
     "text": [
      "TSSA Error:173381.98160423632\n"
     ]
    }
   ],
   "source": [
    "tssa_error = np.mean(np.square(test_data['MT_370'] - test_estimates_tSSA))\n",
    "print(f\"TSSA Error:{tssa_error}\")"
   ]
  },
  {
   "cell_type": "code",
   "execution_count": 56,
   "metadata": {
    "id": "-wM1MBOWVbH_"
   },
   "outputs": [
    {
     "data": {
      "image/png": "[encoded data removed]",
      "text/plain": [
       "<Figure size 600x400 with 1 Axes>"
      ]
     },
     "metadata": {},
     "output_type": "display_data"
    }
   ],
   "source": [
    "# Plot on bar\n",
    "\n",
    "# Labels and values\n",
    "labels = ['TSSA', 'MSSA', 'SSA']\n",
    "errors = [tssa_error, mssa_error, ssa_error]\n",
    "\n",
    "# Plot\n",
    "plt.figure(figsize=(6, 4))\n",
    "plt.bar(labels, errors, color='red')\n",
    "plt.ylabel('Error')\n",
    "plt.title('Comparison of Forecasting Errors')\n",
    "plt.grid(axis='y', linestyle='--', alpha=0.7)\n",
    "plt.tight_layout()\n",
    "plt.show()"
   ]
  },
  {
   "cell_type": "code",
   "execution_count": null,
   "metadata": {},
   "outputs": [],
   "source": []
  }
 ],
 "metadata": {
  "colab": {
   "provenance": []
  },
  "kernelspec": {
   "display_name": "Python [conda env:mitx] *",
   "language": "python",
   "name": "conda-env-mitx-py"
  },
  "language_info": {
   "codemirror_mode": {
    "name": "ipython",
    "version": 3
   },
   "file_extension": ".py",
   "mimetype": "text/x-python",
   "name": "python",
   "nbconvert_exporter": "python",
   "pygments_lexer": "ipython3",
   "version": "3.12.8"
  }
 },
 "nbformat": 4,
 "nbformat_minor": 4
}
