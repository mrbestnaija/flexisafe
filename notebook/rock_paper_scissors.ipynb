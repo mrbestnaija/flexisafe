{
 "cells": [
  {
   "cell_type": "code",
   "execution_count": 3,
   "id": "73d3f4ea-5c91-4771-b2dc-6274a99e6aac",
   "metadata": {},
   "outputs": [],
   "source": [
    "# Step 1: Define the possible choices\n",
    "choices = [\"Rock\", \"Paper\", \"Scissors\"]\n",
    "\n"
   ]
  },
  {
   "cell_type": "code",
   "execution_count": 4,
   "id": "17b90050-880f-4741-92cb-54c26318f213",
   "metadata": {},
   "outputs": [],
   "source": [
    "# Step 2: Get the user's choice\n",
    "def get_user_choice():\n",
    "    user_input = input(\"Enter your choice (Rock, Paper, Scissors): \").strip().capitalize()\n",
    "    while user_input not in choices:\n",
    "        print(\"Invalid choice. Please try again.\")\n",
    "        user_input = input(\"Enter your choice (Rock, Paper, Scissors): \").strip().capitalize()\n",
    "    return user_input\n",
    "\n"
   ]
  },
  {
   "cell_type": "code",
   "execution_count": 5,
   "id": "e2958e8f-2390-44ce-9fcf-e974ba5ea1c3",
   "metadata": {},
   "outputs": [],
   "source": [
    "# Step 3: Generate a random choice for the computer\n",
    "import random\n",
    "\n",
    "def get_computer_choice():\n",
    "    return random.choice(choices)\n",
    "\n"
   ]
  },
  {
   "cell_type": "code",
   "execution_count": 6,
   "id": "fc54b328-3a41-4136-a47d-954ff25cc676",
   "metadata": {},
   "outputs": [],
   "source": [
    "# Step 4: Determine the winner\n",
    "def determine_winner(user_choice, computer_choice):\n",
    "    if user_choice == computer_choice:\n",
    "        return \"It's a tie!\"\n",
    "    elif (user_choice == \"Rock\" and computer_choice == \"Scissors\") or \\\n",
    "         (user_choice == \"Scissors\" and computer_choice == \"Paper\") or \\\n",
    "         (user_choice == \"Paper\" and computer_choice == \"Rock\"):\n",
    "        return \"You win!\"\n",
    "    else:\n",
    "        return \"Computer wins!\"\n",
    "\n"
   ]
  },
  {
   "cell_type": "code",
   "execution_count": null,
   "id": "725326c6-8795-41e1-858b-549b3363530f",
   "metadata": {},
   "outputs": [
    {
     "name": "stdout",
     "output_type": "stream",
     "text": [
      "Welcome to Rock, Paper, Scissors!\n"
     ]
    }
   ],
   "source": [
    "# Main game loop\n",
    "def play_game():\n",
    "    print(\"Welcome to Rock, Paper, Scissors!\")\n",
    "    user_choice = get_user_choice()\n",
    "    computer_choice = get_computer_choice()\n",
    "    \n",
    "    print(f\"You chose: {user_choice}\")\n",
    "    print(f\"Computer chose: {computer_choice}\")\n",
    "    \n",
    "    result = determine_winner(user_choice, computer_choice)\n",
    "    print(result)\n",
    "\n",
    "# Run the game\n",
    "play_game()"
   ]
  }
 ],
 "metadata": {
  "kernelspec": {
   "display_name": "Python [conda env:flaxisafe_internship_programme] *",
   "language": "python",
   "name": "conda-env-flaxisafe_internship_programme-py"
  },
  "language_info": {
   "codemirror_mode": {
    "name": "ipython",
    "version": 3
   },
   "file_extension": ".py",
   "mimetype": "text/x-python",
   "name": "python",
   "nbconvert_exporter": "python",
   "pygments_lexer": "ipython3",
   "version": "3.12.8"
  }
 },
 "nbformat": 4,
 "nbformat_minor": 5
}
