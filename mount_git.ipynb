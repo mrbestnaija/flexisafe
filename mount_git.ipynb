{
 "cells": [
  {
   "cell_type": "code",
   "execution_count": 2,
   "id": "6e685a68-af9f-4e13-80d7-3d59119b3219",
   "metadata": {},
   "outputs": [
    {
     "data": {
      "text/plain": [
       "'C:\\\\Users\\\\MR-BEST\\\\flexisafe_internship_programme\\\\beginner_phase'"
      ]
     },
     "execution_count": 2,
     "metadata": {},
     "output_type": "execute_result"
    }
   ],
   "source": [
    "# Set up necessary files and folders to match the specified GitHub repository structure\n",
    "\n",
    "import os\n",
    "import shutil\n",
    "from matplotlib import pyplot as plt\n",
    "\n",
    "# Define folder structure\n",
    "base_dir = r\"C:\\Users\\MR-BEST\\flexisafe_internship_programme\\beginner_phase\" #\"/mnt/data/unsupervised_customer_segmentation\"\n",
    "folders = [\n",
    "    \"data\",\n",
    "    \"notebooks\",\n",
    "    \"src\",\n",
    "    \"reports/figures\"\n",
    "]\n",
    "\n",
    "# Create directories\n",
    "for folder in folders:\n",
    "    os.makedirs(os.path.join(base_dir, folder), exist_ok=True)\n",
    "\n",
    "# Save the dataset in the data folder (simulate download)\n",
    "import pandas as pd\n",
    "url = \"https://raw.githubusercontent.com/SteffiPeTaffy/machineLearningAZ/master/Machine%20Learning%20A-Z%20Template%20Folder/Part%204%20-%20Clustering/Section%2025%20-%20Hierarchical%20Clustering/Mall_Customers.csv\"\n",
    "df = pd.read_csv(url)\n",
    "df.to_csv(os.path.join(base_dir, \"data\", \"Mall_Customers.csv\"), index=False)\n",
    "\n",
    "# Save a placeholder README.md\n",
    "readme_content = \"\"\"# Unsupervised Customer Segmentation\n",
    "\n",
    "This project performs customer segmentation using K-Means clustering on the Mall Customers dataset.\n",
    "\n",
    "## Structure\n",
    "\n",
    "- `data/`: Contains the raw dataset.\n",
    "- `notebooks/`: Jupyter notebook with exploratory analysis and clustering.\n",
    "- `src/`: Python scripts used in the project.\n",
    "- `reports/`: Final PDF report and generated figures.\n",
    "\"\"\"\n",
    "with open(os.path.join(base_dir, \"README.md\"), \"w\") as f:\n",
    "    f.write(readme_content)\n",
    "\n",
    "# Save a placeholder requirements.txt\n",
    "requirements_content = \"\"\"\n",
    "numpy\n",
    "pandas\n",
    "matplotlib\n",
    "seaborn\n",
    "scikit-learn\n",
    "scipy\n",
    "\"\"\"\n",
    "with open(os.path.join(base_dir, \"requirements.txt\"), \"w\") as f:\n",
    "    f.write(requirements_content)\n",
    "\n",
    "# Save .gitignore\n",
    "gitignore_content = \"\"\"\n",
    "__pycache__/\n",
    ".ipynb_checkpoints/\n",
    "*.pyc\n",
    ".DS_Store\n",
    "\"\"\"\n",
    "with open(os.path.join(base_dir, \".gitignore\"), \"w\") as f:\n",
    "    f.write(gitignore_content)\n",
    "\n",
    "base_dir  # Return the path to the created project structure\n"
   ]
  },
  {
   "cell_type": "code",
   "execution_count": null,
   "id": "c963ca12-fd99-4373-921a-5bb522f7c4cb",
   "metadata": {},
   "outputs": [],
   "source": []
  }
 ],
 "metadata": {
  "kernelspec": {
   "display_name": "Python 3 (ipykernel)",
   "language": "python",
   "name": "python3"
  },
  "language_info": {
   "codemirror_mode": {
    "name": "ipython",
    "version": 3
   },
   "file_extension": ".py",
   "mimetype": "text/x-python",
   "name": "python",
   "nbconvert_exporter": "python",
   "pygments_lexer": "ipython3",
   "version": "3.12.7"
  }
 },
 "nbformat": 4,
 "nbformat_minor": 5
}
